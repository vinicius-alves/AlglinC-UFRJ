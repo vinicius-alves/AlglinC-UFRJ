{
 "cells": [
  {
   "cell_type": "markdown",
   "metadata": {},
   "source": [
    "# Lista 1 - Algebra Linear Computacional\n",
    "\n",
    "## Lucas Chagas, Vinicius Alves"
   ]
  },
  {
   "cell_type": "markdown",
   "metadata": {},
   "source": [
    "### Imports:"
   ]
  },
  {
   "cell_type": "code",
   "execution_count": null,
   "metadata": {},
   "outputs": [],
   "source": [
    "# -*- coding: utf-8 -*-\n",
    "\n",
    "import my_lib "
   ]
  },
  {
   "cell_type": "markdown",
   "metadata": {},
   "source": [
    "### Exercício 3"
   ]
  },
  {
   "cell_type": "code",
   "execution_count": null,
   "metadata": {},
   "outputs": [],
   "source": [
    "#carga dos dados\n",
    "\n",
    "matriz_A_linhas = [\n",
    "    [16,9,8,7,6,5,4,3,2,1],\n",
    "    [9,17,9,8,7,6,5,4,3,2],\n",
    "    [8,9,18,9,8,7,6,5,4,3],\n",
    "    [7,8,9,19,9,8,7,6,5,4],\n",
    "    [6,7,8,9,18,9,8,7,6,5],\n",
    "    [5,6,7,8,9,17,9,8,7,6],\n",
    "    [4,5,6,7,8,9,16,9,8,7],\n",
    "    [3,4,5,6,7,8,9,15,9,8],\n",
    "    [2,3,4,5,6,7,8,9,14,9],\n",
    "    [1,2,3,4,5,6,7,8,9,13]\n",
    "]\n",
    "\n",
    "matriz_B_linhas = [\n",
    "    [ 4],\n",
    "    [ 0],\n",
    "    [ 8],\n",
    "    [ 0],\n",
    "    [12],\n",
    "    [ 0],\n",
    "    [ 8],\n",
    "    [ 0],\n",
    "    [ 4],\n",
    "    [ 0]\n",
    "]\n",
    "\n",
    "matriz_A = my_lib.criar_matriz(matriz_A_linhas)\n",
    "matriz_B = my_lib.criar_array(matriz_B_linhas)"
   ]
  },
  {
   "cell_type": "markdown",
   "metadata": {},
   "source": [
    "### Resolução do sistema por Decomposição LU"
   ]
  },
  {
   "cell_type": "code",
   "execution_count": null,
   "metadata": {},
   "outputs": [],
   "source": [
    "matriz_X = my_lib.resolver_sistema_por_decomposicao_LU(matriz_A, matriz_B)\n",
    "\n",
    "my_lib.print_array_resposta(matriz_X)"
   ]
  },
  {
   "cell_type": "markdown",
   "metadata": {},
   "source": [
    "### Resolução do sistema por Decomposição de Cholesky"
   ]
  },
  {
   "cell_type": "code",
   "execution_count": null,
   "metadata": {},
   "outputs": [],
   "source": [
    "matriz_X = my_lib.resolver_sistema_por_decomposicao_de_Cholesky(matriz_A, matriz_B)\n",
    "\n",
    "my_lib.print_array_resposta(matriz_X)"
   ]
  }
 ],
 "metadata": {
  "kernelspec": {
   "display_name": "Python 2",
   "language": "python",
   "name": "python2"
  },
  "language_info": {
   "codemirror_mode": {
    "name": "ipython",
    "version": 2
   },
   "file_extension": ".py",
   "mimetype": "text/x-python",
   "name": "python",
   "nbconvert_exporter": "python",
   "pygments_lexer": "ipython2",
   "version": "2.7.14"
  }
 },
 "nbformat": 4,
 "nbformat_minor": 2
}
