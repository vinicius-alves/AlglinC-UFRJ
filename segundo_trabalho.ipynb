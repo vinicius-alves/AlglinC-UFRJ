{
 "cells": [
  {
   "cell_type": "markdown",
   "metadata": {},
   "source": [
    "# Lista 2 - Algebra Linear Computacional\n",
    "\n",
    "## Lucas Chagas, Vinicius Alves"
   ]
  },
  {
   "cell_type": "markdown",
   "metadata": {},
   "source": [
    "### Imports:"
   ]
  },
  {
   "cell_type": "code",
   "execution_count": null,
   "metadata": {},
   "outputs": [],
   "source": [
    "# -*- coding: utf-8 -*-\n",
    "\n",
    "import my_lib "
   ]
  },
  {
   "cell_type": "markdown",
   "metadata": {},
   "source": [
    "### Exercício 4"
   ]
  },
  {
   "cell_type": "code",
   "execution_count": null,
   "metadata": {},
   "outputs": [],
   "source": [
    "#carga dos dados\n",
    "\n",
    "matriz_A_linhas = [\n",
    "    [ 3.0, 2.0, 0.0],\n",
    "    [ 2.0, 3.0,-1.0],\n",
    "    [ 0.0,-1.0, 3.0]\n",
    "]\n",
    "\n",
    "matriz_B_linhas = [\n",
    "    [ 1.0],\n",
    "    [-1.0],\n",
    "    [ 1.0]\n",
    "]\n",
    "\n",
    "matriz_A = my_lib.criar_matriz(matriz_A_linhas)\n",
    "matriz_B = my_lib.criar_array(matriz_B_linhas)"
   ]
  },
  {
   "cell_type": "markdown",
   "metadata": {},
   "source": [
    "### Power Method"
   ]
  },
  {
   "cell_type": "code",
   "execution_count": null,
   "metadata": {},
   "outputs": [],
   "source": [
    "matriz_X = my_lib.powerMethod(matriz_A)\n",
    "\n",
    "print matriz_X"
   ]
  },
  {
   "cell_type": "markdown",
   "metadata": {},
   "source": [
    "### Método de Jacobi"
   ]
  },
  {
   "cell_type": "code",
   "execution_count": null,
   "metadata": {},
   "outputs": [],
   "source": [
    "matriz_X = my_lib.jacobiMethod(matriz_A)\n",
    "\n",
    "print matriz_X"
   ]
  }
 ],
 "metadata": {
  "kernelspec": {
   "display_name": "Python 2",
   "language": "python",
   "name": "python2"
  },
  "language_info": {
   "codemirror_mode": {
    "name": "ipython",
    "version": 2
   },
   "file_extension": ".py",
   "mimetype": "text/x-python",
   "name": "python",
   "nbconvert_exporter": "python",
   "pygments_lexer": "ipython2",
   "version": "2.7.14"
  }
 },
 "nbformat": 4,
 "nbformat_minor": 2
}
