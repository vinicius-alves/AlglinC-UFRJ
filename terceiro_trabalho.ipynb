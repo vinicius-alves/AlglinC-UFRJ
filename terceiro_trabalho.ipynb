{
 "cells": [
  {
   "cell_type": "markdown",
   "metadata": {},
   "source": [
    "# Lista 3 - Algebra Linear Computacional\n",
    "\n",
    "## Lucas Chagas, Vinicius Alves"
   ]
  },
  {
   "cell_type": "markdown",
   "metadata": {},
   "source": [
    "### Imports:"
   ]
  },
  {
   "cell_type": "code",
   "execution_count": null,
   "metadata": {},
   "outputs": [],
   "source": [
    "# -*- coding: utf-8 -*-\n",
    "\n",
    "import my_lib "
   ]
  },
  {
   "cell_type": "markdown",
   "metadata": {},
   "source": [
    "### Exercício 1"
   ]
  },
  {
   "cell_type": "code",
   "execution_count": null,
   "metadata": {},
   "outputs": [],
   "source": [
    "array_X_valores = [1,2,3]\n",
    "array_Y_valores = [1,2,9]\n",
    "\n",
    "array_X = my_lib.criar_array(array_X_valores)\n",
    "array_Y = my_lib.criar_array(array_Y_valores)\n",
    "\n",
    "array_B = my_lib.interpolacao_polinomial(array_X,array_Y)\n",
    "my_lib.print_polinomio(array_B)\n",
    "\n",
    "funcao_exercicio_1 = array_B"
   ]
  },
  {
   "cell_type": "markdown",
   "metadata": {},
   "source": [
    "### Exercício 2"
   ]
  },
  {
   "cell_type": "code",
   "execution_count": null,
   "metadata": {},
   "outputs": [],
   "source": [
    "array_X_valores = [1,2,3, 4]\n",
    "array_Y_valores = [1,2,9,20]\n",
    "\n",
    "array_X = my_lib.criar_array(array_X_valores)\n",
    "array_Y = my_lib.criar_array(array_Y_valores)\n",
    "\n",
    "array_B = my_lib.interpolacao_polinomial(array_X,array_Y)\n",
    "\n",
    "my_lib.print_polinomio(array_B)\n",
    "\n",
    "funcao_exercicio_2 = array_B"
   ]
  },
  {
   "cell_type": "markdown",
   "metadata": {},
   "source": [
    "### Exercício 3"
   ]
  },
  {
   "cell_type": "code",
   "execution_count": null,
   "metadata": {
    "scrolled": true
   },
   "outputs": [],
   "source": [
    "b1,b2 = my_lib.regredir_fx_b1x_b2(array_X,array_Y, exibir_grafico=True) \n",
    "\n",
    "def valor_regressao_exercicio3_no_ponto(ponto):\n",
    "    return b1*(ponto**b2)\n",
    "\n",
    "print \"\\nb1 = \",\"%.3f\" % b1,\" b2 = \",\"%.3f\" % b2"
   ]
  },
  {
   "cell_type": "markdown",
   "metadata": {},
   "source": [
    "### Exercício 4"
   ]
  },
  {
   "cell_type": "code",
   "execution_count": null,
   "metadata": {},
   "outputs": [],
   "source": [
    "polinomioLagrange = my_lib.interpolacao_lagrange(array_X,array_Y)\n",
    "my_lib.print_polinomio(polinomioLagrange)\n",
    "\n",
    "funcao_exercicio_4 = polinomioLagrange"
   ]
  },
  {
   "cell_type": "markdown",
   "metadata": {},
   "source": [
    "### Exercício 5"
   ]
  },
  {
   "cell_type": "code",
   "execution_count": null,
   "metadata": {},
   "outputs": [],
   "source": [
    "polinomioGrau2 = my_lib.regredir_para_polinomio_grau_2(array_X, array_Y, exibir_grafico = True)\n",
    "\n",
    "funcao_exercicio_5 = polinomioGrau2"
   ]
  },
  {
   "cell_type": "markdown",
   "metadata": {},
   "source": [
    "### Exercício 6"
   ]
  },
  {
   "cell_type": "code",
   "execution_count": null,
   "metadata": {},
   "outputs": [],
   "source": [
    "ponto_alvo = 3.5\n",
    "\n",
    "print \"Valor do ponto \" + str(ponto_alvo) + \" na função do: \\n\"\n",
    "print \"   primeiro exercício: \" +str(\"%.3f\" % my_lib.valor_polinomio_no_ponto(funcao_exercicio_1,ponto_alvo))\n",
    "print \"   segundo  exercício: \" +str(\"%.3f\" % my_lib.valor_polinomio_no_ponto(funcao_exercicio_2,ponto_alvo))\n",
    "print \"   terceiro exercício: \" +str(\"%.3f\" % valor_regressao_exercicio3_no_ponto(ponto_alvo))\n",
    "print \"   quarto   exercício: \" +str(\"%.3f\" % my_lib.valor_polinomio_no_ponto(funcao_exercicio_4,ponto_alvo))\n",
    "print \"   quinto   exercício: \" +str(\"%.3f\" % my_lib.valor_polinomio_no_ponto(funcao_exercicio_5,ponto_alvo))"
   ]
  },
  {
   "cell_type": "markdown",
   "metadata": {},
   "source": [
    "### Exercício 7"
   ]
  },
  {
   "cell_type": "code",
   "execution_count": null,
   "metadata": {},
   "outputs": [],
   "source": [
    "A7 = [[1.0 ,-1.0,1.0],\n",
    "     [2.0 , 3.0, 1.0],\n",
    "     [-2.0, 2.0, 3.0]]\n",
    "\n",
    "C7 = [[9.0],\n",
    "     [5.0],\n",
    "     [2.0]]\n",
    "\n",
    "A7_matriz = my_lib.criar_matriz(A7)\n",
    "C7_matriz = my_lib.criar_array(C7)\n",
    "\n",
    "matriz_X = my_lib.resolver_sistema_por_decomposicao_LU(A7_matriz,C7_matriz)\n",
    "\n",
    "my_lib.print_array_resposta(matriz_X)"
   ]
  },
  {
   "cell_type": "markdown",
   "metadata": {},
   "source": [
    "### Exercício 8"
   ]
  },
  {
   "cell_type": "code",
   "execution_count": null,
   "metadata": {},
   "outputs": [],
   "source": [
    "pontos = [[1,1],[2,2.5],[3,3.5],[4,4.3]]\n",
    "\n",
    "print my_lib.ajusteEquacao(pontos)"
   ]
  },
  {
   "cell_type": "markdown",
   "metadata": {},
   "source": [
    "### Exercício 9"
   ]
  },
  {
   "cell_type": "code",
   "execution_count": null,
   "metadata": {},
   "outputs": [],
   "source": [
    "pontos = my_lib.pontosUsuario()\n",
    "\n",
    "print my_lib.regressaoLinear(pontos)"
   ]
  }
 ],
 "metadata": {
  "kernelspec": {
   "display_name": "Python 2",
   "language": "python",
   "name": "python2"
  },
  "language_info": {
   "codemirror_mode": {
    "name": "ipython",
    "version": 2
   },
   "file_extension": ".py",
   "mimetype": "text/x-python",
   "name": "python",
   "nbconvert_exporter": "python",
   "pygments_lexer": "ipython2",
   "version": "2.7.14"
  }
 },
 "nbformat": 4,
 "nbformat_minor": 2
}
